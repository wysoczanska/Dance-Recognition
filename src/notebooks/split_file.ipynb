{
 "cells": [
  {
   "cell_type": "code",
   "execution_count": 3,
   "metadata": {},
   "outputs": [],
   "source": [
    "import pandas as pd\n",
    "import os\n",
    "from sklearn.model_selection import train_test_split, StratifiedShuffleSplit\n",
    "from matplotlib import pyplot as plt"
   ]
  },
  {
   "cell_type": "code",
   "execution_count": 97,
   "metadata": {},
   "outputs": [],
   "source": [
    "df_todo = pd.read_csv('/home/monika/git/Dance-Recognition/src/multimodal_net/datasets/letsdance_splits/all_videos_complete.csv',  sep='\\t', header=None)\n",
    "df = pd.read_csv('/home/monika/git/Dance-Recognition/src/multimodal_net/datasets/letsdance_splits/train.csv', sep='\\t', header=None)\n",
    "df_test = pd.read_csv('/home/monika/git/Dance-Recognition/src/multimodal_net/datasets/letsdance_splits/test.csv', sep='\\t', header=None)\n",
    "df_val = pd.read_csv('/home/monika/git/Dance-Recognition/src/multimodal_net/datasets/letsdance_splits/val.csv', sep='\\t', header=None)"
   ]
  },
  {
   "cell_type": "code",
   "execution_count": 98,
   "metadata": {},
   "outputs": [
    {
     "data": {
      "text/html": [
       "<div>\n",
       "<style scoped>\n",
       "    .dataframe tbody tr th:only-of-type {\n",
       "        vertical-align: middle;\n",
       "    }\n",
       "\n",
       "    .dataframe tbody tr th {\n",
       "        vertical-align: top;\n",
       "    }\n",
       "\n",
       "    .dataframe thead th {\n",
       "        text-align: right;\n",
       "    }\n",
       "</style>\n",
       "<table border=\"1\" class=\"dataframe\">\n",
       "  <thead>\n",
       "    <tr style=\"text-align: right;\">\n",
       "      <th></th>\n",
       "      <th>0</th>\n",
       "      <th>1</th>\n",
       "      <th>2</th>\n",
       "    </tr>\n",
       "  </thead>\n",
       "  <tbody>\n",
       "    <tr>\n",
       "      <th>1379</th>\n",
       "      <td>tango</td>\n",
       "      <td>FY0I_ppROdc_008</td>\n",
       "      <td>301</td>\n",
       "    </tr>\n",
       "    <tr>\n",
       "      <th>1380</th>\n",
       "      <td>samba</td>\n",
       "      <td>HknJUs3gPuE_014</td>\n",
       "      <td>106</td>\n",
       "    </tr>\n",
       "    <tr>\n",
       "      <th>1381</th>\n",
       "      <td>tango</td>\n",
       "      <td>jz3L-OlPWoA_042</td>\n",
       "      <td>300</td>\n",
       "    </tr>\n",
       "    <tr>\n",
       "      <th>1382</th>\n",
       "      <td>foxtrot</td>\n",
       "      <td>CCdE5dwl5Ms_029</td>\n",
       "      <td>300</td>\n",
       "    </tr>\n",
       "    <tr>\n",
       "      <th>1383</th>\n",
       "      <td>swing</td>\n",
       "      <td>XAnPQz21pZA_308</td>\n",
       "      <td>241</td>\n",
       "    </tr>\n",
       "  </tbody>\n",
       "</table>\n",
       "</div>"
      ],
      "text/plain": [
       "            0                1    2\n",
       "1379    tango  FY0I_ppROdc_008  301\n",
       "1380    samba  HknJUs3gPuE_014  106\n",
       "1381    tango  jz3L-OlPWoA_042  300\n",
       "1382  foxtrot  CCdE5dwl5Ms_029  300\n",
       "1383    swing  XAnPQz21pZA_308  241"
      ]
     },
     "execution_count": 98,
     "metadata": {},
     "output_type": "execute_result"
    }
   ],
   "source": [
    "df_todo.tail()"
   ]
  },
  {
   "cell_type": "code",
   "execution_count": 87,
   "metadata": {},
   "outputs": [
    {
     "data": {
      "text/html": [
       "<div>\n",
       "<style scoped>\n",
       "    .dataframe tbody tr th:only-of-type {\n",
       "        vertical-align: middle;\n",
       "    }\n",
       "\n",
       "    .dataframe tbody tr th {\n",
       "        vertical-align: top;\n",
       "    }\n",
       "\n",
       "    .dataframe thead th {\n",
       "        text-align: right;\n",
       "    }\n",
       "</style>\n",
       "<table border=\"1\" class=\"dataframe\">\n",
       "  <thead>\n",
       "    <tr style=\"text-align: right;\">\n",
       "      <th></th>\n",
       "      <th>0</th>\n",
       "      <th>1</th>\n",
       "      <th>2</th>\n",
       "    </tr>\n",
       "  </thead>\n",
       "  <tbody>\n",
       "    <tr>\n",
       "      <th>1379</th>\n",
       "      <td>tango</td>\n",
       "      <td>FY0I_ppROdc_008</td>\n",
       "      <td>301</td>\n",
       "    </tr>\n",
       "    <tr>\n",
       "      <th>1380</th>\n",
       "      <td>samba</td>\n",
       "      <td>HknJUs3gPuE_014</td>\n",
       "      <td>106</td>\n",
       "    </tr>\n",
       "    <tr>\n",
       "      <th>1381</th>\n",
       "      <td>tango</td>\n",
       "      <td>jz3L-OlPWoA_042</td>\n",
       "      <td>300</td>\n",
       "    </tr>\n",
       "    <tr>\n",
       "      <th>1382</th>\n",
       "      <td>foxtrot</td>\n",
       "      <td>CCdE5dwl5Ms_029</td>\n",
       "      <td>300</td>\n",
       "    </tr>\n",
       "    <tr>\n",
       "      <th>1383</th>\n",
       "      <td>swing</td>\n",
       "      <td>XAnPQz21pZA_308</td>\n",
       "      <td>241</td>\n",
       "    </tr>\n",
       "  </tbody>\n",
       "</table>\n",
       "</div>"
      ],
      "text/plain": [
       "            0                1    2\n",
       "1379    tango  FY0I_ppROdc_008  301\n",
       "1380    samba  HknJUs3gPuE_014  106\n",
       "1381    tango  jz3L-OlPWoA_042  300\n",
       "1382  foxtrot  CCdE5dwl5Ms_029  300\n",
       "1383    swing  XAnPQz21pZA_308  241"
      ]
     },
     "execution_count": 87,
     "metadata": {},
     "output_type": "execute_result"
    }
   ],
   "source": [
    "df_todo = pd.concat([df, df_test, df_val], ignore_index=True)\n",
    "df_todo.tail(5)"
   ]
  },
  {
   "cell_type": "code",
   "execution_count": 99,
   "metadata": {},
   "outputs": [
    {
     "data": {
      "text/plain": [
       "1"
      ]
     },
     "execution_count": 99,
     "metadata": {},
     "output_type": "execute_result"
    }
   ],
   "source": [
    "sss = StratifiedShuffleSplit(n_splits=1, test_size=0.2)\n",
    "sss.get_n_splits(df_todo, df_todo[0])"
   ]
  },
  {
   "cell_type": "code",
   "execution_count": 100,
   "metadata": {},
   "outputs": [],
   "source": [
    "for train_index, test_index in sss.split(df_todo, df_todo[0]):\n",
    "    X_train, X_test = df_todo.iloc[train_index,:], df_todo.iloc[test_index,:]\n"
   ]
  },
  {
   "cell_type": "code",
   "execution_count": 101,
   "metadata": {},
   "outputs": [
    {
     "data": {
      "text/plain": [
       "1107"
      ]
     },
     "execution_count": 101,
     "metadata": {},
     "output_type": "execute_result"
    }
   ],
   "source": [
    "len(X_train)"
   ]
  },
  {
   "cell_type": "code",
   "execution_count": 102,
   "metadata": {},
   "outputs": [
    {
     "name": "stdout",
     "output_type": "stream",
     "text": [
      "277\n"
     ]
    }
   ],
   "source": [
    "print(len(X_test))"
   ]
  },
  {
   "cell_type": "code",
   "execution_count": 103,
   "metadata": {},
   "outputs": [
    {
     "data": {
      "text/plain": [
       "1"
      ]
     },
     "execution_count": 103,
     "metadata": {},
     "output_type": "execute_result"
    }
   ],
   "source": [
    "sss = StratifiedShuffleSplit(n_splits=1, test_size=0.5, random_state=0)\n",
    "sss.get_n_splits(X_test, X_test[0])"
   ]
  },
  {
   "cell_type": "code",
   "execution_count": 104,
   "metadata": {},
   "outputs": [],
   "source": [
    "for train_index, test_index in sss.split(X_test, X_test[0]):\n",
    "    X_val, X_test = X_test.iloc[train_index,:], X_test.iloc[test_index,:]"
   ]
  },
  {
   "cell_type": "code",
   "execution_count": 105,
   "metadata": {},
   "outputs": [
    {
     "name": "stdout",
     "output_type": "stream",
     "text": [
      "139\n"
     ]
    }
   ],
   "source": [
    "print(len(X_test))"
   ]
  },
  {
   "cell_type": "code",
   "execution_count": 106,
   "metadata": {},
   "outputs": [
    {
     "data": {
      "text/plain": [
       "981     SYUbP0hDB3k_054\n",
       "1000    HVYkiBRe-vk_028\n",
       "491     8qAGcFpaUlc_032\n",
       "1271    0FYfWsrSORc_030\n",
       "1243    9tyZsswHOvg_049\n",
       "475     3KKxhwwnL0o_014\n",
       "263     YcvHq7kn9lA_043\n",
       "832     UMoy_jtBbt4_036\n",
       "1068    DOSiIbjykc4_020\n",
       "172     zchjlpArkDw_009\n",
       "484     m4A6PLeGIB4_005\n",
       "163     fNJqZkDpcfA_049\n",
       "127     yfzpR25btwM_113\n",
       "717     Xj1_aETg6Ww_640\n",
       "1148    XDqBJIXMSPg_049\n",
       "926     7_D4xRURWbw_002\n",
       "1011    qsnE4HGvLs8_006\n",
       "1153    _ik3V_WD-6A_051\n",
       "319     3ZMH4j0Hqv0_033\n",
       "217     lm6-Mq4_9W8_016\n",
       "338     ToFyPVocxMk_037\n",
       "153     dihHypWDsDo_012\n",
       "691     E-5ttEAqxX0_007\n",
       "776     dmcaNDqMwRM_050\n",
       "561     WJaKRTWufco_014\n",
       "836     nF-1issipwU_144\n",
       "339     9vtnyIbOfrs_106\n",
       "1030    _HF8AZ88wnk_220\n",
       "1036    3Tae97hVs6U_148\n",
       "1099    f43C2MIIEzU_330\n",
       "             ...       \n",
       "120     i1hR3-DVlR0_115\n",
       "732     8oya5vVKbzw_039\n",
       "1141    WXivS2NMb4k_035\n",
       "772     pNcwTMVExr0_052\n",
       "1134    n2GQohU77Y4_114\n",
       "659     rLC2c-_uWjg_029\n",
       "375     _jjx_Z7AmzI_012\n",
       "1304    e76aqQuVV7o_042\n",
       "1033    Vj8ig_Fgz0c_115\n",
       "674     u--jDp2Hieg_131\n",
       "1189    uUGsLoZYXb4_025\n",
       "956     eYjNdnSX1vY_103\n",
       "873     t4xg5_yabdU_015\n",
       "152     A3X-mPB2MYQ_004\n",
       "853     9VJRYKIP67s_010\n",
       "230     1QU5CyYPVp4_047\n",
       "517     rZBImFtLhxA_047\n",
       "357     hkOijGdD6jo_037\n",
       "1112    WJl3UqLrRqI_028\n",
       "949     eEKSBowT_GA_059\n",
       "601     4CKtLabIApE_049\n",
       "208     TKD_iUDUKDw_007\n",
       "623     qxTaZQXmd_U_032\n",
       "266     6UYQWmufctc_014\n",
       "620     3nd8WQy58Pw_850\n",
       "530     xoDVJXvjrfE_110\n",
       "576     cUrs9z5VcJE_051\n",
       "967     gCY_AXdJVl8_055\n",
       "613     vVPUkd5FNk4_047\n",
       "276     AQ7HEnCtnJg_012\n",
       "Name: 1, Length: 1107, dtype: object"
      ]
     },
     "execution_count": 106,
     "metadata": {},
     "output_type": "execute_result"
    }
   ],
   "source": [
    "X_train[1]"
   ]
  },
  {
   "cell_type": "code",
   "execution_count": 83,
   "metadata": {},
   "outputs": [
    {
     "name": "stderr",
     "output_type": "stream",
     "text": [
      "/home/monika/git/jersey_number_recognition/venv/lib/python3.6/site-packages/ipykernel_launcher.py:1: UserWarning: Boolean Series key will be reindexed to match DataFrame index.\n",
      "  \"\"\"Entry point for launching an IPython kernel.\n"
     ]
    },
    {
     "data": {
      "text/html": [
       "<div>\n",
       "<style scoped>\n",
       "    .dataframe tbody tr th:only-of-type {\n",
       "        vertical-align: middle;\n",
       "    }\n",
       "\n",
       "    .dataframe tbody tr th {\n",
       "        vertical-align: top;\n",
       "    }\n",
       "\n",
       "    .dataframe thead th {\n",
       "        text-align: right;\n",
       "    }\n",
       "</style>\n",
       "<table border=\"1\" class=\"dataframe\">\n",
       "  <thead>\n",
       "    <tr style=\"text-align: right;\">\n",
       "      <th></th>\n",
       "      <th>0</th>\n",
       "      <th>1</th>\n",
       "      <th>2</th>\n",
       "    </tr>\n",
       "  </thead>\n",
       "  <tbody>\n",
       "  </tbody>\n",
       "</table>\n",
       "</div>"
      ],
      "text/plain": [
       "Empty DataFrame\n",
       "Columns: [0, 1, 2]\n",
       "Index: []"
      ]
     },
     "execution_count": 83,
     "metadata": {},
     "output_type": "execute_result"
    }
   ],
   "source": [
    "X_test[X_test[1].eq(X_train[1])]"
   ]
  },
  {
   "cell_type": "code",
   "execution_count": 5,
   "metadata": {},
   "outputs": [],
   "source": [
    "extended_list_dir = '/mnt/cold/inputs/jersey_number_recognition/letsdance/sample'"
   ]
  },
  {
   "cell_type": "code",
   "execution_count": 6,
   "metadata": {},
   "outputs": [
    {
     "ename": "FileNotFoundError",
     "evalue": "[Errno 2] No such file or directory: '/mnt/cold/inputs/jersey_number_recognition/letsdance/sample'",
     "output_type": "error",
     "traceback": [
      "\u001b[0;31m---------------------------------------------------------------------------\u001b[0m",
      "\u001b[0;31mFileNotFoundError\u001b[0m                         Traceback (most recent call last)",
      "\u001b[0;32m<ipython-input-6-1a741ff25524>\u001b[0m in \u001b[0;36m<module>\u001b[0;34m()\u001b[0m\n\u001b[0;32m----> 1\u001b[0;31m \u001b[0mclasses\u001b[0m \u001b[0;34m=\u001b[0m \u001b[0mos\u001b[0m\u001b[0;34m.\u001b[0m\u001b[0mlistdir\u001b[0m\u001b[0;34m(\u001b[0m\u001b[0mextended_list_dir\u001b[0m\u001b[0;34m)\u001b[0m\u001b[0;34m\u001b[0m\u001b[0;34m\u001b[0m\u001b[0m\n\u001b[0m",
      "\u001b[0;31mFileNotFoundError\u001b[0m: [Errno 2] No such file or directory: '/mnt/cold/inputs/jersey_number_recognition/letsdance/sample'"
     ]
    }
   ],
   "source": [
    "classes = os.listdir(extended_list_dir)"
   ]
  },
  {
   "cell_type": "code",
   "execution_count": 39,
   "metadata": {},
   "outputs": [],
   "source": [
    "X_val, X_test, y_val, y_test = train_test_split(X_test, y_test, test_size=0.5)\n"
   ]
  },
  {
   "cell_type": "code",
   "execution_count": 107,
   "metadata": {},
   "outputs": [],
   "source": [
    "X_val.to_csv('../multimodal_net/datasets/letsdance_splits/val.csv', sep='\\t', header=None, index=False)\n",
    "X_test.to_csv('../multimodal_net/datasets/letsdance_splits/test.csv', sep='\\t', header=None, index=False)\n",
    "X_train.to_csv('../multimodal_net/datasets/letsdance_splits/train.csv', sep='\\t', header=None, index=False)\n",
    "df_todo.to_csv('../multimodal_net/datasets/letsdance_splits/all_videos_complete.csv', sep='\\t', header=None, index=False)"
   ]
  }
 ],
 "metadata": {
  "kernelspec": {
   "display_name": "Python 3",
   "language": "python",
   "name": "python3"
  },
  "language_info": {
   "codemirror_mode": {
    "name": "ipython",
    "version": 3
   },
   "file_extension": ".py",
   "mimetype": "text/x-python",
   "name": "python",
   "nbconvert_exporter": "python",
   "pygments_lexer": "ipython3",
   "version": "3.6.7"
  }
 },
 "nbformat": 4,
 "nbformat_minor": 1
}
