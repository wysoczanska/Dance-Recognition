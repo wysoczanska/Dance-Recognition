{
 "cells": [
  {
   "cell_type": "code",
   "execution_count": 1,
   "metadata": {},
   "outputs": [],
   "source": [
    "import pandas as pd\n",
    "import os\n",
    "from sklearn.model_selection import train_test_split\n",
    "from matplotlib import pyplot as plt"
   ]
  },
  {
   "cell_type": "code",
   "execution_count": 8,
   "metadata": {},
   "outputs": [],
   "source": [
    "os.chdir('C:/Users/user/Desktop/kto_ma_szkole_ten_ma_lzej/MGR/Dance-Recognition')\n",
    "\n",
    "df = pd.read_csv('src/multimodal_net/datasets/letsdance_splits/train_final.csv', sep='\\t', header=None)\n",
    "df_test = pd.read_csv('src/multimodal_net/datasets/letsdance_splits/test.csv', sep='\\t', header=None)\n",
    "df_val = pd.read_csv('src/multimodal_net/datasets/letsdance_splits/val.csv', sep='\\t', header=None)"
   ]
  },
  {
   "cell_type": "code",
   "execution_count": 13,
   "metadata": {},
   "outputs": [
    {
     "data": {
      "text/html": [
       "<div>\n",
       "<style scoped>\n",
       "    .dataframe tbody tr th:only-of-type {\n",
       "        vertical-align: middle;\n",
       "    }\n",
       "\n",
       "    .dataframe tbody tr th {\n",
       "        vertical-align: top;\n",
       "    }\n",
       "\n",
       "    .dataframe thead th {\n",
       "        text-align: right;\n",
       "    }\n",
       "</style>\n",
       "<table border=\"1\" class=\"dataframe\">\n",
       "  <thead>\n",
       "    <tr style=\"text-align: right;\">\n",
       "      <th></th>\n",
       "      <th>0</th>\n",
       "      <th>1</th>\n",
       "      <th>2</th>\n",
       "    </tr>\n",
       "  </thead>\n",
       "  <tbody>\n",
       "    <tr>\n",
       "      <th>1385</th>\n",
       "      <td>tap</td>\n",
       "      <td>SkSp4EKatnI_018</td>\n",
       "      <td>241</td>\n",
       "    </tr>\n",
       "    <tr>\n",
       "      <th>1386</th>\n",
       "      <td>break</td>\n",
       "      <td>T0Hxyi-QPPE_123</td>\n",
       "      <td>301</td>\n",
       "    </tr>\n",
       "    <tr>\n",
       "      <th>1387</th>\n",
       "      <td>pasodoble</td>\n",
       "      <td>fu6rZUtnMVw_039</td>\n",
       "      <td>241</td>\n",
       "    </tr>\n",
       "    <tr>\n",
       "      <th>1388</th>\n",
       "      <td>pasodoble</td>\n",
       "      <td>HMyTAmCwwSY_022</td>\n",
       "      <td>241</td>\n",
       "    </tr>\n",
       "    <tr>\n",
       "      <th>1389</th>\n",
       "      <td>foxtrot</td>\n",
       "      <td>CCdE5dwl5Ms_029</td>\n",
       "      <td>301</td>\n",
       "    </tr>\n",
       "  </tbody>\n",
       "</table>\n",
       "</div>"
      ],
      "text/plain": [
       "              0                1    2\n",
       "1385        tap  SkSp4EKatnI_018  241\n",
       "1386      break  T0Hxyi-QPPE_123  301\n",
       "1387  pasodoble  fu6rZUtnMVw_039  241\n",
       "1388  pasodoble  HMyTAmCwwSY_022  241\n",
       "1389    foxtrot  CCdE5dwl5Ms_029  301"
      ]
     },
     "execution_count": 13,
     "metadata": {},
     "output_type": "execute_result"
    }
   ],
   "source": [
    "df_todo = pd.concat([df, df_test, df_val], ignore_index=True)\n",
    "df_todo.tail(5)"
   ]
  },
  {
   "cell_type": "code",
   "execution_count": 16,
   "metadata": {},
   "outputs": [
    {
     "name": "stdout",
     "output_type": "stream",
     "text": [
      "(1112, 3) (1112,)\n",
      "(278, 3) (278,)\n"
     ]
    }
   ],
   "source": [
    "X_train, X_test, y_train, y_test = train_test_split(df_todo, df_todo[0], test_size=0.2)\n",
    "print (X_train.shape, y_train.shape)\n",
    "print (X_test.shape, y_test.shape)"
   ]
  },
  {
   "cell_type": "code",
   "execution_count": 17,
   "metadata": {},
   "outputs": [],
   "source": [
    "X_val, X_test, y_val, y_test = train_test_split(X_test, y_test, test_size=0.5)\n"
   ]
  },
  {
   "cell_type": "code",
   "execution_count": 20,
   "metadata": {},
   "outputs": [],
   "source": [
    "X_val.to_csv('src/multimodal_net/datasets/letsdance_splits/val.csv', sep='\\t', header=None, index=False)\n",
    "X_test.to_csv('src/multimodal_net/datasets/letsdance_splits/test.csv', sep='\\t', header=None, index=False)\n",
    "X_train.to_csv('src/multimodal_net/datasets/letsdance_splits/train.csv', sep='\\t', header=None, index=False)\n",
    "df_todo.to_csv('src/multimodal_net/datasets/letsdance_splits/all_videos_complete.csv', sep='\\t', header=None, index=False)"
   ]
  }
 ],
 "metadata": {
  "kernelspec": {
   "display_name": "Python 3",
   "language": "python",
   "name": "python3"
  },
  "language_info": {
   "codemirror_mode": {
    "name": "ipython",
    "version": 3
   },
   "file_extension": ".py",
   "mimetype": "text/x-python",
   "name": "python",
   "nbconvert_exporter": "python",
   "pygments_lexer": "ipython3",
   "version": "3.7.0"
  }
 },
 "nbformat": 4,
 "nbformat_minor": 1
}
