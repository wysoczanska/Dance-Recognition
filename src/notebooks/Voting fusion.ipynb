{
 "cells": [
  {
   "cell_type": "code",
   "execution_count": 2,
   "metadata": {
    "ExecuteTime": {
     "end_time": "2019-09-11T12:35:08.512237Z",
     "start_time": "2019-09-11T12:35:03.477339Z"
    }
   },
   "outputs": [],
   "source": [
    "import pickle\n",
    "import pandas as pd\n",
    "import numpy as np\n",
    "import torch.nn.functional as F\n",
    "import torch\n",
    "import matplotlib\n",
    "matplotlib.rcParams.update({'font.size': 22})\n",
    "import matplotlib.pyplot as plt\n",
    "\n",
    "\n",
    "from scipy.special import softmax"
   ]
  },
  {
   "cell_type": "code",
   "execution_count": 3,
   "metadata": {
    "ExecuteTime": {
     "end_time": "2019-09-11T12:35:08.547696Z",
     "start_time": "2019-09-11T12:35:08.528504Z"
    }
   },
   "outputs": [],
   "source": [
    "def plot_confusion_matrix(y_true, y_pred, classes,\n",
    "                          normalize=False,\n",
    "                          title=None,\n",
    "                          cmap=plt.cm.Blues):\n",
    "    \"\"\"\n",
    "    This function prints and plots the confusion matrix.\n",
    "    Normalization can be applied by setting `normalize=True`.\n",
    "    \"\"\"\n",
    "    if not title:\n",
    "        if normalize:\n",
    "            title = 'Normalized confusion matrix'\n",
    "        else:\n",
    "            title = 'Confusion matrix'\n",
    "\n",
    "    # Compute confusion matrix\n",
    "    cm = confusion_matrix(y_true, y_pred)\n",
    "    # Only use the labels that appear in the data\n",
    "    classes_idx=np.arange(0,16)\n",
    "    classes_idx = classes_idx[unique_labels(y_true, y_pred)]\n",
    "    if normalize:\n",
    "        cm = cm.astype('float') / cm.sum(axis=1)[:, np.newaxis]\n",
    "        print(\"Normalized confusion matrix\")\n",
    "    else:\n",
    "        print('Confusion matrix, without normalization')\n",
    "\n",
    "    fig, ax = plt.subplots(figsize=(15,15))\n",
    "    im = ax.imshow(cm, interpolation='nearest', cmap=cmap)\n",
    "    ax.figure.colorbar(im, ax=ax)\n",
    "    # We want to show all ticks...\n",
    "    ax.set(xticks=np.arange(cm.shape[1]),\n",
    "           yticks=np.arange(cm.shape[0]),\n",
    "           # ... and label them with the respective list entries\n",
    "           xticklabels=classes, yticklabels=classes,\n",
    "           title=title,\n",
    "           ylabel='Predicted labels',\n",
    "           xlabel='True labels')\n",
    "\n",
    "    # Rotate the tick labels and set their alignment.\n",
    "    plt.setp(ax.get_xticklabels(), rotation=45, ha=\"right\",\n",
    "             rotation_mode=\"anchor\")\n",
    "\n",
    "    # Loop over data dimensions and create text annotations.\n",
    "    fmt = '.2f' if normalize else 'd'\n",
    "    thresh = cm.max() / 2.\n",
    "    for i in range(cm.shape[0]):\n",
    "        for j in range(cm.shape[1]):\n",
    "            ax.text(j, i, format(cm[i, j], fmt),\n",
    "                    ha=\"center\", va=\"center\",\n",
    "                    color=\"white\" if cm[i, j] > thresh else \"black\")\n",
    "    fig.tight_layout()\n",
    "    return fig"
   ]
  },
  {
   "cell_type": "markdown",
   "metadata": {},
   "source": [
    "# Averaging fusion"
   ]
  },
  {
   "cell_type": "markdown",
   "metadata": {},
   "source": [
    "Reading and cleaning operations"
   ]
  },
  {
   "cell_type": "code",
   "execution_count": 4,
   "metadata": {
    "ExecuteTime": {
     "end_time": "2019-09-11T12:35:27.433323Z",
     "start_time": "2019-09-11T12:35:27.360252Z"
    }
   },
   "outputs": [],
   "source": [
    "vision_preds_val = pickle.load( open( \"../multimodal_net/final_outs_vis.pkl\", \"rb\" ) )\n",
    "audio_preds_val = pickle.load( open( \"../multimodal_net/audio_predictions_val.pkl\", \"rb\" ) )\n",
    "audio_df_val = pd.DataFrame.from_dict(audio_preds_val, orient='index')\n",
    "val_df = pd.read_csv(\"../multimodal_net/datasets/letsdance_splits/val.csv\", header=None, sep='\\t', names=['true', 'index', 'duration']).set_index('index')\n",
    "classes_to_idx = pickle.load( open( \"../multimodal_net/classes_to_idx.pkl\", \"rb\" ) )\n",
    "vision_df_val = pd.DataFrame.from_dict(vision_preds_val, orient='index').reset_index()\n",
    "vision_df_val = vision_df_val.set_index('index')"
   ]
  },
  {
   "cell_type": "code",
   "execution_count": 5,
   "metadata": {
    "ExecuteTime": {
     "end_time": "2019-09-11T12:35:28.145961Z",
     "start_time": "2019-09-11T12:35:28.143522Z"
    }
   },
   "outputs": [],
   "source": [
    "idxes_to_classes = {val:key for (key, val) in classes_to_idx.items()}"
   ]
  },
  {
   "cell_type": "markdown",
   "metadata": {
    "ExecuteTime": {
     "end_time": "2019-08-21T15:35:17.039207Z",
     "start_time": "2019-08-21T15:35:17.035874Z"
    }
   },
   "source": [
    "Temporal visual averaging for each video"
   ]
  },
  {
   "cell_type": "code",
   "execution_count": 6,
   "metadata": {
    "ExecuteTime": {
     "end_time": "2019-09-11T12:35:29.824079Z",
     "start_time": "2019-09-11T12:35:29.811934Z"
    }
   },
   "outputs": [],
   "source": [
    "vision_df_val = pd.DataFrame(np.nanmean(vision_df_val.values.reshape(len(val_df), -1, len(classes_to_idx)), axis=1), index=vision_df_val.index)\n"
   ]
  },
  {
   "cell_type": "markdown",
   "metadata": {},
   "source": [
    "Apply softmax on audio and visual models' outputs"
   ]
  },
  {
   "cell_type": "code",
   "execution_count": 7,
   "metadata": {
    "ExecuteTime": {
     "end_time": "2019-09-11T12:35:33.253584Z",
     "start_time": "2019-09-11T12:35:33.096072Z"
    }
   },
   "outputs": [],
   "source": [
    "audio_df_val_preds = audio_df_val.apply(softmax, axis=1)\n",
    "vision_df_val_preds = vision_df_val.apply(softmax, axis=1)"
   ]
  },
  {
   "cell_type": "markdown",
   "metadata": {},
   "source": [
    "Averaging"
   ]
  },
  {
   "cell_type": "code",
   "execution_count": 8,
   "metadata": {
    "ExecuteTime": {
     "end_time": "2019-09-11T12:35:34.358315Z",
     "start_time": "2019-09-11T12:35:34.329501Z"
    }
   },
   "outputs": [],
   "source": [
    "joint_df = (audio_df_val_preds+vision_df_val_preds)/2\n",
    "joint_df['average_final'] = joint_df.idxmax(axis=1)"
   ]
  },
  {
   "cell_type": "markdown",
   "metadata": {
    "ExecuteTime": {
     "end_time": "2019-08-21T15:38:01.606823Z",
     "start_time": "2019-08-21T15:38:01.603036Z"
    }
   },
   "source": [
    "Create joint data frame to see the results side by side"
   ]
  },
  {
   "cell_type": "code",
   "execution_count": 9,
   "metadata": {
    "ExecuteTime": {
     "end_time": "2019-09-11T12:35:35.376921Z",
     "start_time": "2019-09-11T12:35:35.345611Z"
    }
   },
   "outputs": [],
   "source": [
    "vision_df_val['vision_final'] = vision_df_val.idxmax(axis=1)\n",
    "audio_df_val['audio_final']=audio_df_val.idxmax(axis=1)\n",
    "final_df = val_df.join(audio_df_val['audio_final']).drop(columns=['duration'])\n",
    "final_df = final_df.join(vision_df_val['vision_final'])\n",
    "final_df = final_df.join(joint_df['average_final'])"
   ]
  },
  {
   "cell_type": "code",
   "execution_count": 10,
   "metadata": {
    "ExecuteTime": {
     "end_time": "2019-09-11T12:35:38.767378Z",
     "start_time": "2019-09-11T12:35:38.737950Z"
    }
   },
   "outputs": [],
   "source": [
    "\n",
    "final_df['audio_final']=final_df['audio_final'].replace(idxes_to_classes)\n",
    "final_df['vision_final']=final_df['vision_final'].replace(idxes_to_classes)\n",
    "final_df['average_final']=final_df['average_final'].replace(idxes_to_classes)\n",
    "\n"
   ]
  },
  {
   "cell_type": "markdown",
   "metadata": {},
   "source": [
    "Show all the missclassified examples "
   ]
  },
  {
   "cell_type": "code",
   "execution_count": 11,
   "metadata": {
    "ExecuteTime": {
     "end_time": "2019-09-11T12:35:40.293219Z",
     "start_time": "2019-09-11T12:35:40.262495Z"
    }
   },
   "outputs": [
    {
     "data": {
      "text/html": [
       "<div>\n",
       "<style scoped>\n",
       "    .dataframe tbody tr th:only-of-type {\n",
       "        vertical-align: middle;\n",
       "    }\n",
       "\n",
       "    .dataframe tbody tr th {\n",
       "        vertical-align: top;\n",
       "    }\n",
       "\n",
       "    .dataframe thead th {\n",
       "        text-align: right;\n",
       "    }\n",
       "</style>\n",
       "<table border=\"1\" class=\"dataframe\">\n",
       "  <thead>\n",
       "    <tr style=\"text-align: right;\">\n",
       "      <th></th>\n",
       "      <th>true</th>\n",
       "      <th>audio_final</th>\n",
       "      <th>vision_final</th>\n",
       "      <th>average_final</th>\n",
       "    </tr>\n",
       "    <tr>\n",
       "      <th>index</th>\n",
       "      <th></th>\n",
       "      <th></th>\n",
       "      <th></th>\n",
       "      <th></th>\n",
       "    </tr>\n",
       "  </thead>\n",
       "  <tbody>\n",
       "    <tr>\n",
       "      <th>uKE-UnXbnL0_036</th>\n",
       "      <td>rumba</td>\n",
       "      <td>cha</td>\n",
       "      <td>cha</td>\n",
       "      <td>cha</td>\n",
       "    </tr>\n",
       "    <tr>\n",
       "      <th>Npe8Vv_YH3Q_020</th>\n",
       "      <td>swing</td>\n",
       "      <td>swing</td>\n",
       "      <td>pasodoble</td>\n",
       "      <td>pasodoble</td>\n",
       "    </tr>\n",
       "    <tr>\n",
       "      <th>nQxihx9WU_k_002</th>\n",
       "      <td>ballet</td>\n",
       "      <td>latin</td>\n",
       "      <td>ballet</td>\n",
       "      <td>latin</td>\n",
       "    </tr>\n",
       "    <tr>\n",
       "      <th>Pk1RfQvobxE_100</th>\n",
       "      <td>cha</td>\n",
       "      <td>cha</td>\n",
       "      <td>rumba</td>\n",
       "      <td>rumba</td>\n",
       "    </tr>\n",
       "    <tr>\n",
       "      <th>SzWNayeS-K8_009</th>\n",
       "      <td>tango</td>\n",
       "      <td>tango</td>\n",
       "      <td>foxtrot</td>\n",
       "      <td>foxtrot</td>\n",
       "    </tr>\n",
       "    <tr>\n",
       "      <th>D1ZYhVpdXbQ_227</th>\n",
       "      <td>tap</td>\n",
       "      <td>tap</td>\n",
       "      <td>pasodoble</td>\n",
       "      <td>pasodoble</td>\n",
       "    </tr>\n",
       "    <tr>\n",
       "      <th>dtU8mCSp2RE_302</th>\n",
       "      <td>samba</td>\n",
       "      <td>quickstep</td>\n",
       "      <td>rumba</td>\n",
       "      <td>quickstep</td>\n",
       "    </tr>\n",
       "    <tr>\n",
       "      <th>HknJUs3gPuE_804</th>\n",
       "      <td>jive</td>\n",
       "      <td>tap</td>\n",
       "      <td>pasodoble</td>\n",
       "      <td>tap</td>\n",
       "    </tr>\n",
       "    <tr>\n",
       "      <th>Rl88sW_rtv0_115</th>\n",
       "      <td>tap</td>\n",
       "      <td>break</td>\n",
       "      <td>rumba</td>\n",
       "      <td>break</td>\n",
       "    </tr>\n",
       "    <tr>\n",
       "      <th>Ap9Xj0OBgJ8_043</th>\n",
       "      <td>tango</td>\n",
       "      <td>pasodoble</td>\n",
       "      <td>quickstep</td>\n",
       "      <td>pasodoble</td>\n",
       "    </tr>\n",
       "    <tr>\n",
       "      <th>1XRNi8vFf5c_115</th>\n",
       "      <td>swing</td>\n",
       "      <td>jive</td>\n",
       "      <td>jive</td>\n",
       "      <td>jive</td>\n",
       "    </tr>\n",
       "    <tr>\n",
       "      <th>OAfHveS6cMw_052</th>\n",
       "      <td>tap</td>\n",
       "      <td>square</td>\n",
       "      <td>pasodoble</td>\n",
       "      <td>square</td>\n",
       "    </tr>\n",
       "    <tr>\n",
       "      <th>DydCrso0PJo_003</th>\n",
       "      <td>quickstep</td>\n",
       "      <td>samba</td>\n",
       "      <td>quickstep</td>\n",
       "      <td>samba</td>\n",
       "    </tr>\n",
       "    <tr>\n",
       "      <th>6_hqpOxaln8_228</th>\n",
       "      <td>cha</td>\n",
       "      <td>tango</td>\n",
       "      <td>rumba</td>\n",
       "      <td>tango</td>\n",
       "    </tr>\n",
       "    <tr>\n",
       "      <th>AV8y1PNmrTg_110</th>\n",
       "      <td>cha</td>\n",
       "      <td>pasodoble</td>\n",
       "      <td>samba</td>\n",
       "      <td>samba</td>\n",
       "    </tr>\n",
       "    <tr>\n",
       "      <th>AehnnJzWO80_103</th>\n",
       "      <td>swing</td>\n",
       "      <td>samba</td>\n",
       "      <td>pasodoble</td>\n",
       "      <td>samba</td>\n",
       "    </tr>\n",
       "    <tr>\n",
       "      <th>TGvyix_esxo_411</th>\n",
       "      <td>pasodoble</td>\n",
       "      <td>pasodoble</td>\n",
       "      <td>rumba</td>\n",
       "      <td>rumba</td>\n",
       "    </tr>\n",
       "    <tr>\n",
       "      <th>dqyItsY-yck_034</th>\n",
       "      <td>flamenco</td>\n",
       "      <td>tap</td>\n",
       "      <td>break</td>\n",
       "      <td>tap</td>\n",
       "    </tr>\n",
       "    <tr>\n",
       "      <th>ptxn0UPUILU_047</th>\n",
       "      <td>flamenco</td>\n",
       "      <td>tap</td>\n",
       "      <td>square</td>\n",
       "      <td>square</td>\n",
       "    </tr>\n",
       "    <tr>\n",
       "      <th>3zCT36UnEcA_220</th>\n",
       "      <td>tango</td>\n",
       "      <td>tango</td>\n",
       "      <td>foxtrot</td>\n",
       "      <td>foxtrot</td>\n",
       "    </tr>\n",
       "    <tr>\n",
       "      <th>b9-Td5NiE8Y_110</th>\n",
       "      <td>latin</td>\n",
       "      <td>latin</td>\n",
       "      <td>rumba</td>\n",
       "      <td>rumba</td>\n",
       "    </tr>\n",
       "    <tr>\n",
       "      <th>mawLpga0pn8_002</th>\n",
       "      <td>tap</td>\n",
       "      <td>flamenco</td>\n",
       "      <td>tap</td>\n",
       "      <td>flamenco</td>\n",
       "    </tr>\n",
       "    <tr>\n",
       "      <th>DrLPmyGCALw_035</th>\n",
       "      <td>waltz</td>\n",
       "      <td>rumba</td>\n",
       "      <td>waltz</td>\n",
       "      <td>rumba</td>\n",
       "    </tr>\n",
       "    <tr>\n",
       "      <th>zxSyQ-K6Jh0_147</th>\n",
       "      <td>flamenco</td>\n",
       "      <td>flamenco</td>\n",
       "      <td>tap</td>\n",
       "      <td>tap</td>\n",
       "    </tr>\n",
       "    <tr>\n",
       "      <th>SjRsHRnnyEg_046</th>\n",
       "      <td>swing</td>\n",
       "      <td>cha</td>\n",
       "      <td>swing</td>\n",
       "      <td>cha</td>\n",
       "    </tr>\n",
       "    <tr>\n",
       "      <th>-AXfEN_LJl4_011</th>\n",
       "      <td>cha</td>\n",
       "      <td>cha</td>\n",
       "      <td>rumba</td>\n",
       "      <td>rumba</td>\n",
       "    </tr>\n",
       "    <tr>\n",
       "      <th>XC-ZAGwnmJI_832</th>\n",
       "      <td>latin</td>\n",
       "      <td>latin</td>\n",
       "      <td>swing</td>\n",
       "      <td>swing</td>\n",
       "    </tr>\n",
       "    <tr>\n",
       "      <th>m2TthjT6Ox8_026</th>\n",
       "      <td>cha</td>\n",
       "      <td>samba</td>\n",
       "      <td>jive</td>\n",
       "      <td>jive</td>\n",
       "    </tr>\n",
       "    <tr>\n",
       "      <th>Y94TgeL0m0s_036</th>\n",
       "      <td>quickstep</td>\n",
       "      <td>foxtrot</td>\n",
       "      <td>foxtrot</td>\n",
       "      <td>foxtrot</td>\n",
       "    </tr>\n",
       "    <tr>\n",
       "      <th>rDnJ8JlPieU_421</th>\n",
       "      <td>ballet</td>\n",
       "      <td>latin</td>\n",
       "      <td>tap</td>\n",
       "      <td>tap</td>\n",
       "    </tr>\n",
       "    <tr>\n",
       "      <th>yEsVpv0c8TE_025</th>\n",
       "      <td>tap</td>\n",
       "      <td>flamenco</td>\n",
       "      <td>flamenco</td>\n",
       "      <td>flamenco</td>\n",
       "    </tr>\n",
       "    <tr>\n",
       "      <th>ICfjEsFNYtA_106</th>\n",
       "      <td>flamenco</td>\n",
       "      <td>rumba</td>\n",
       "      <td>pasodoble</td>\n",
       "      <td>rumba</td>\n",
       "    </tr>\n",
       "    <tr>\n",
       "      <th>pflQ0M6hGtc_233</th>\n",
       "      <td>ballet</td>\n",
       "      <td>swing</td>\n",
       "      <td>ballet</td>\n",
       "      <td>swing</td>\n",
       "    </tr>\n",
       "    <tr>\n",
       "      <th>DOSiIbjykc4_020</th>\n",
       "      <td>tango</td>\n",
       "      <td>cha</td>\n",
       "      <td>foxtrot</td>\n",
       "      <td>cha</td>\n",
       "    </tr>\n",
       "    <tr>\n",
       "      <th>g-1RbT7J_rE_021</th>\n",
       "      <td>tap</td>\n",
       "      <td>flamenco</td>\n",
       "      <td>flamenco</td>\n",
       "      <td>flamenco</td>\n",
       "    </tr>\n",
       "    <tr>\n",
       "      <th>E4Wl4T2LJ9A_523</th>\n",
       "      <td>foxtrot</td>\n",
       "      <td>samba</td>\n",
       "      <td>pasodoble</td>\n",
       "      <td>samba</td>\n",
       "    </tr>\n",
       "  </tbody>\n",
       "</table>\n",
       "</div>"
      ],
      "text/plain": [
       "                      true audio_final vision_final average_final\n",
       "index                                                            \n",
       "uKE-UnXbnL0_036      rumba         cha          cha           cha\n",
       "Npe8Vv_YH3Q_020      swing       swing    pasodoble     pasodoble\n",
       "nQxihx9WU_k_002     ballet       latin       ballet         latin\n",
       "Pk1RfQvobxE_100        cha         cha        rumba         rumba\n",
       "SzWNayeS-K8_009      tango       tango      foxtrot       foxtrot\n",
       "D1ZYhVpdXbQ_227        tap         tap    pasodoble     pasodoble\n",
       "dtU8mCSp2RE_302      samba   quickstep        rumba     quickstep\n",
       "HknJUs3gPuE_804       jive         tap    pasodoble           tap\n",
       "Rl88sW_rtv0_115        tap       break        rumba         break\n",
       "Ap9Xj0OBgJ8_043      tango   pasodoble    quickstep     pasodoble\n",
       "1XRNi8vFf5c_115      swing        jive         jive          jive\n",
       "OAfHveS6cMw_052        tap      square    pasodoble        square\n",
       "DydCrso0PJo_003  quickstep       samba    quickstep         samba\n",
       "6_hqpOxaln8_228        cha       tango        rumba         tango\n",
       "AV8y1PNmrTg_110        cha   pasodoble        samba         samba\n",
       "AehnnJzWO80_103      swing       samba    pasodoble         samba\n",
       "TGvyix_esxo_411  pasodoble   pasodoble        rumba         rumba\n",
       "dqyItsY-yck_034   flamenco         tap        break           tap\n",
       "ptxn0UPUILU_047   flamenco         tap       square        square\n",
       "3zCT36UnEcA_220      tango       tango      foxtrot       foxtrot\n",
       "b9-Td5NiE8Y_110      latin       latin        rumba         rumba\n",
       "mawLpga0pn8_002        tap    flamenco          tap      flamenco\n",
       "DrLPmyGCALw_035      waltz       rumba        waltz         rumba\n",
       "zxSyQ-K6Jh0_147   flamenco    flamenco          tap           tap\n",
       "SjRsHRnnyEg_046      swing         cha        swing           cha\n",
       "-AXfEN_LJl4_011        cha         cha        rumba         rumba\n",
       "XC-ZAGwnmJI_832      latin       latin        swing         swing\n",
       "m2TthjT6Ox8_026        cha       samba         jive          jive\n",
       "Y94TgeL0m0s_036  quickstep     foxtrot      foxtrot       foxtrot\n",
       "rDnJ8JlPieU_421     ballet       latin          tap           tap\n",
       "yEsVpv0c8TE_025        tap    flamenco     flamenco      flamenco\n",
       "ICfjEsFNYtA_106   flamenco       rumba    pasodoble         rumba\n",
       "pflQ0M6hGtc_233     ballet       swing       ballet         swing\n",
       "DOSiIbjykc4_020      tango         cha      foxtrot           cha\n",
       "g-1RbT7J_rE_021        tap    flamenco     flamenco      flamenco\n",
       "E4Wl4T2LJ9A_523    foxtrot       samba    pasodoble         samba"
      ]
     },
     "execution_count": 11,
     "metadata": {},
     "output_type": "execute_result"
    }
   ],
   "source": [
    "final_df[final_df['true']!=final_df['average_final']]"
   ]
  },
  {
   "cell_type": "code",
   "execution_count": 12,
   "metadata": {
    "ExecuteTime": {
     "end_time": "2019-09-11T12:35:45.165793Z",
     "start_time": "2019-09-11T12:35:44.598543Z"
    }
   },
   "outputs": [
    {
     "data": {
      "text/html": [
       "<div>\n",
       "<style scoped>\n",
       "    .dataframe tbody tr th:only-of-type {\n",
       "        vertical-align: middle;\n",
       "    }\n",
       "\n",
       "    .dataframe tbody tr th {\n",
       "        vertical-align: top;\n",
       "    }\n",
       "\n",
       "    .dataframe thead th {\n",
       "        text-align: right;\n",
       "    }\n",
       "</style>\n",
       "<table border=\"1\" class=\"dataframe\">\n",
       "  <thead>\n",
       "    <tr style=\"text-align: right;\">\n",
       "      <th></th>\n",
       "      <th>Accuracy</th>\n",
       "      <th>Precision</th>\n",
       "      <th>Recall</th>\n",
       "    </tr>\n",
       "  </thead>\n",
       "  <tbody>\n",
       "    <tr>\n",
       "      <th>0</th>\n",
       "      <td>0.741007</td>\n",
       "      <td>0.754315</td>\n",
       "      <td>0.744874</td>\n",
       "    </tr>\n",
       "  </tbody>\n",
       "</table>\n",
       "</div>"
      ],
      "text/plain": [
       "   Accuracy  Precision    Recall\n",
       "0  0.741007   0.754315  0.744874"
      ]
     },
     "execution_count": 12,
     "metadata": {},
     "output_type": "execute_result"
    }
   ],
   "source": [
    "from sklearn.metrics import accuracy_score, precision_score, recall_score, f1_score, confusion_matrix\n",
    "pd.DataFrame({'Accuracy': accuracy_score(final_df['true'], final_df['average_final']),\n",
    "'Precision': precision_score(final_df['true'], final_df['average_final'], average='macro'),\n",
    "              \"Recall\": recall_score(final_df['true'], final_df['average_final'], average='macro')}, index=[0])"
   ]
  },
  {
   "cell_type": "markdown",
   "metadata": {},
   "source": [
    "# SVM fusion"
   ]
  },
  {
   "cell_type": "markdown",
   "metadata": {
    "ExecuteTime": {
     "end_time": "2019-09-02T08:11:47.070922Z",
     "start_time": "2019-09-02T08:11:47.054053Z"
    }
   },
   "source": [
    "Reading traning examples and preparation"
   ]
  },
  {
   "cell_type": "code",
   "execution_count": 13,
   "metadata": {
    "ExecuteTime": {
     "end_time": "2019-09-11T12:35:48.396058Z",
     "start_time": "2019-09-11T12:35:48.213601Z"
    }
   },
   "outputs": [],
   "source": [
    "vision_preds = pickle.load( open( \"../multimodal_net/final_outs_train_vis.pkl\", \"rb\" ) )\n",
    "audio_preds = pickle.load( open( \"../multimodal_net/audio_predictions_train.pkl\", \"rb\" ) )\n",
    "audio_df = pd.DataFrame.from_dict(audio_preds, orient='index')\n",
    "train_df = pd.read_csv(\"../multimodal_net/datasets/letsdance_splits/train.csv\", header=None, sep='\\t')\n",
    "#                     )\n",
    "classes_to_idx = pickle.load( open( \"../multimodal_net/classes_to_idx.pkl\", \"rb\" ) )\n",
    "vision_preds_val = pickle.load( open( \"../multimodal_net/final_outs_vis.pkl\", \"rb\" ) )\n",
    "audio_preds_val = pickle.load( open( \"../multimodal_net/audio_predictions_val.pkl\", \"rb\" ) )\n",
    "audio_df_val = pd.DataFrame.from_dict(audio_preds_val, orient='index')\n",
    "vision_df_val = pd.DataFrame.from_dict(vision_preds_val, orient='index').reset_index()\n",
    "vision_df_val = vision_df_val.set_index('index')\n",
    "\n",
    "vision_df_val = pd.DataFrame(np.nanmean(vision_df_val.values.reshape(139, -1, 16), axis=1), index=vision_df_val.index)\n",
    "audio_df_val_preds = audio_df_val.apply(softmax, axis=1)\n",
    "vision_df_val_preds = vision_df_val.apply(softmax, axis=1)"
   ]
  },
  {
   "cell_type": "code",
   "execution_count": 14,
   "metadata": {
    "ExecuteTime": {
     "end_time": "2019-09-11T12:35:53.694804Z",
     "start_time": "2019-09-11T12:35:53.691108Z"
    }
   },
   "outputs": [],
   "source": [
    "train_df = train_df.set_index(1)"
   ]
  },
  {
   "cell_type": "code",
   "execution_count": 17,
   "metadata": {
    "ExecuteTime": {
     "end_time": "2019-09-11T12:37:03.948243Z",
     "start_time": "2019-09-11T12:37:03.806066Z"
    }
   },
   "outputs": [],
   "source": [
    "vision_df = pd.DataFrame.from_dict(vision_preds, orient='index').reset_index()\n",
    "# vision_df.columns = ['filename', 'vision_dec']\n",
    "vision_df = vision_df.set_index('index')\n",
    "\n",
    "vision_df = pd.DataFrame(np.nanmean(vision_df.values.reshape(len(train_df), -1, len(classes_to_idx)), axis=1), index=vision_df.index)\n"
   ]
  },
  {
   "cell_type": "markdown",
   "metadata": {},
   "source": [
    "Apply softmax"
   ]
  },
  {
   "cell_type": "code",
   "execution_count": 18,
   "metadata": {
    "ExecuteTime": {
     "end_time": "2019-09-11T12:37:10.059395Z",
     "start_time": "2019-09-11T12:37:09.240979Z"
    }
   },
   "outputs": [],
   "source": [
    "audio_df = audio_df.apply(softmax, axis=1)\n",
    "vision_df = vision_df.apply(softmax, axis=1)"
   ]
  },
  {
   "cell_type": "markdown",
   "metadata": {},
   "source": [
    "Concatenate both representations"
   ]
  },
  {
   "cell_type": "code",
   "execution_count": 19,
   "metadata": {
    "ExecuteTime": {
     "end_time": "2019-09-11T12:37:20.204531Z",
     "start_time": "2019-09-11T12:37:20.182825Z"
    }
   },
   "outputs": [
    {
     "name": "stderr",
     "output_type": "stream",
     "text": [
      "/home/monika/git/jersey_number_recognition/venv/lib/python3.6/site-packages/ipykernel_launcher.py:1: FutureWarning: Sorting because non-concatenation axis is not aligned. A future version\n",
      "of pandas will change to not sort by default.\n",
      "\n",
      "To accept the future behavior, pass 'sort=False'.\n",
      "\n",
      "To retain the current behavior and silence the warning, pass 'sort=True'.\n",
      "\n",
      "  \"\"\"Entry point for launching an IPython kernel.\n",
      "/home/monika/git/jersey_number_recognition/venv/lib/python3.6/site-packages/ipykernel_launcher.py:2: FutureWarning: Sorting because non-concatenation axis is not aligned. A future version\n",
      "of pandas will change to not sort by default.\n",
      "\n",
      "To accept the future behavior, pass 'sort=False'.\n",
      "\n",
      "To retain the current behavior and silence the warning, pass 'sort=True'.\n",
      "\n",
      "  \n"
     ]
    }
   ],
   "source": [
    "df = pd.concat([audio_df, vision_df], axis=1)\n",
    "df_val = pd.concat([audio_df_val_preds, vision_df_val_preds], axis=1)"
   ]
  },
  {
   "cell_type": "code",
   "execution_count": 20,
   "metadata": {
    "ExecuteTime": {
     "end_time": "2019-09-11T12:37:25.613957Z",
     "start_time": "2019-09-11T12:37:25.606339Z"
    }
   },
   "outputs": [],
   "source": [
    "y_train=train_df[0].replace(classes_to_idx)\n",
    "y_train=y_train.reindex(df.index)"
   ]
  },
  {
   "cell_type": "markdown",
   "metadata": {
    "ExecuteTime": {
     "end_time": "2019-08-21T16:28:44.294664Z",
     "start_time": "2019-08-21T16:28:44.287153Z"
    }
   },
   "source": [
    "Find best parameters with Randomised Grid Search"
   ]
  },
  {
   "cell_type": "code",
   "execution_count": 26,
   "metadata": {
    "ExecuteTime": {
     "end_time": "2019-09-11T12:39:22.220537Z",
     "start_time": "2019-09-11T12:38:58.795723Z"
    }
   },
   "outputs": [
    {
     "name": "stderr",
     "output_type": "stream",
     "text": [
      "/home/monika/git/jersey_number_recognition/venv/lib/python3.6/site-packages/sklearn/model_selection/_search.py:841: DeprecationWarning: The default of the `iid` parameter will change from True to False in version 0.22 and will be removed in 0.24. This will change numeric results when test-set sizes are unequal.\n",
      "  DeprecationWarning)\n"
     ]
    },
    {
     "data": {
      "text/plain": [
       "RandomizedSearchCV(cv=10, error_score='raise-deprecating',\n",
       "          estimator=SVC(C=1.0, cache_size=200, class_weight=None, coef0=0.0,\n",
       "  decision_function_shape='ovr', degree=3, gamma='auto_deprecated',\n",
       "  kernel='rbf', max_iter=-1, probability=False, random_state=None,\n",
       "  shrinking=True, tol=0.001, verbose=False),\n",
       "          fit_params=None, iid='warn', n_iter=500, n_jobs=20,\n",
       "          param_distributions={'kernel': ['rbf', 'linear'], 'gamma': <scipy.stats._distn_infrastructure.rv_frozen object at 0x7f1089dd7e10>, 'C': <scipy.stats._distn_infrastructure.rv_frozen object at 0x7f1089dd79e8>},\n",
       "          pre_dispatch='2*n_jobs', random_state=None, refit=True,\n",
       "          return_train_score=True, scoring='accuracy', verbose=0)"
      ]
     },
     "execution_count": 26,
     "metadata": {},
     "output_type": "execute_result"
    }
   ],
   "source": [
    "from scipy import stats\n",
    "from sklearn import svm\n",
    "from sklearn.model_selection import GridSearchCV, train_test_split, RandomizedSearchCV, StratifiedShuffleSplit\n",
    "from sklearn.metrics import accuracy_score\n",
    "clf = svm.SVC()\n",
    "tuned_parameters = {'kernel': ['rbf', 'linear'], 'gamma': stats.uniform(1e-4,10), 'C': stats.uniform(0.01,10)}\n",
    "\n",
    "\n",
    "grid_search = RandomizedSearchCV(clf, tuned_parameters, scoring='accuracy',\n",
    "                           cv=10, return_train_score=True, n_jobs=20, n_iter=500)\n",
    "grid_search.fit(df, y_train)\n"
   ]
  },
  {
   "cell_type": "markdown",
   "metadata": {
    "ExecuteTime": {
     "end_time": "2019-09-02T09:53:36.790821Z",
     "start_time": "2019-09-02T09:53:36.787637Z"
    }
   },
   "source": [
    "Best model details"
   ]
  },
  {
   "cell_type": "code",
   "execution_count": 27,
   "metadata": {
    "ExecuteTime": {
     "end_time": "2019-09-11T12:39:28.333529Z",
     "start_time": "2019-09-11T12:39:28.323750Z"
    }
   },
   "outputs": [
    {
     "data": {
      "text/plain": [
       "SVC(C=1.9874912757208596, cache_size=200, class_weight=None, coef0=0.0,\n",
       "  decision_function_shape='ovr', degree=3, gamma=9.708583341776034,\n",
       "  kernel='linear', max_iter=-1, probability=False, random_state=None,\n",
       "  shrinking=True, tol=0.001, verbose=False)"
      ]
     },
     "execution_count": 27,
     "metadata": {},
     "output_type": "execute_result"
    }
   ],
   "source": [
    "best_model = grid_search.best_estimator_\n",
    "best_model"
   ]
  },
  {
   "cell_type": "markdown",
   "metadata": {
    "ExecuteTime": {
     "end_time": "2019-09-02T16:29:50.521372Z",
     "start_time": "2019-09-02T16:29:50.518920Z"
    }
   },
   "source": [
    "Get predictions for validation set"
   ]
  },
  {
   "cell_type": "code",
   "execution_count": 28,
   "metadata": {
    "ExecuteTime": {
     "end_time": "2019-09-11T12:39:33.870246Z",
     "start_time": "2019-09-11T12:39:33.863879Z"
    }
   },
   "outputs": [],
   "source": [
    "df_val = df_val.reindex(final_df.index)\n",
    "final_df['svm_final'] = best_model.predict(df_val)\n",
    "final_df['svm_final']=final_df['svm_final'].replace(idxes_to_classes)"
   ]
  },
  {
   "cell_type": "markdown",
   "metadata": {
    "ExecuteTime": {
     "end_time": "2019-08-21T16:31:20.012620Z",
     "start_time": "2019-08-21T16:31:19.999240Z"
    }
   },
   "source": [
    "Add SVM decision and compare all results on validation set"
   ]
  },
  {
   "cell_type": "code",
   "execution_count": 29,
   "metadata": {
    "ExecuteTime": {
     "end_time": "2019-09-11T12:39:39.260271Z",
     "start_time": "2019-09-11T12:39:39.248729Z"
    }
   },
   "outputs": [
    {
     "data": {
      "text/html": [
       "<div>\n",
       "<style scoped>\n",
       "    .dataframe tbody tr th:only-of-type {\n",
       "        vertical-align: middle;\n",
       "    }\n",
       "\n",
       "    .dataframe tbody tr th {\n",
       "        vertical-align: top;\n",
       "    }\n",
       "\n",
       "    .dataframe thead th {\n",
       "        text-align: right;\n",
       "    }\n",
       "</style>\n",
       "<table border=\"1\" class=\"dataframe\">\n",
       "  <thead>\n",
       "    <tr style=\"text-align: right;\">\n",
       "      <th></th>\n",
       "      <th>true</th>\n",
       "      <th>audio_final</th>\n",
       "      <th>vision_final</th>\n",
       "      <th>average_final</th>\n",
       "      <th>svm_final</th>\n",
       "    </tr>\n",
       "    <tr>\n",
       "      <th>index</th>\n",
       "      <th></th>\n",
       "      <th></th>\n",
       "      <th></th>\n",
       "      <th></th>\n",
       "      <th></th>\n",
       "    </tr>\n",
       "  </thead>\n",
       "  <tbody>\n",
       "    <tr>\n",
       "      <th>_YnwZjcA3X0_024</th>\n",
       "      <td>quickstep</td>\n",
       "      <td>latin</td>\n",
       "      <td>quickstep</td>\n",
       "      <td>quickstep</td>\n",
       "      <td>latin</td>\n",
       "    </tr>\n",
       "    <tr>\n",
       "      <th>Npe8Vv_YH3Q_020</th>\n",
       "      <td>swing</td>\n",
       "      <td>swing</td>\n",
       "      <td>pasodoble</td>\n",
       "      <td>pasodoble</td>\n",
       "      <td>swing</td>\n",
       "    </tr>\n",
       "    <tr>\n",
       "      <th>Pk1RfQvobxE_100</th>\n",
       "      <td>cha</td>\n",
       "      <td>cha</td>\n",
       "      <td>rumba</td>\n",
       "      <td>rumba</td>\n",
       "      <td>cha</td>\n",
       "    </tr>\n",
       "    <tr>\n",
       "      <th>SzWNayeS-K8_009</th>\n",
       "      <td>tango</td>\n",
       "      <td>tango</td>\n",
       "      <td>foxtrot</td>\n",
       "      <td>foxtrot</td>\n",
       "      <td>tango</td>\n",
       "    </tr>\n",
       "    <tr>\n",
       "      <th>HknJUs3gPuE_804</th>\n",
       "      <td>jive</td>\n",
       "      <td>tap</td>\n",
       "      <td>pasodoble</td>\n",
       "      <td>tap</td>\n",
       "      <td>pasodoble</td>\n",
       "    </tr>\n",
       "    <tr>\n",
       "      <th>xz2V44lQlqA_035</th>\n",
       "      <td>tap</td>\n",
       "      <td>pasodoble</td>\n",
       "      <td>tap</td>\n",
       "      <td>tap</td>\n",
       "      <td>pasodoble</td>\n",
       "    </tr>\n",
       "    <tr>\n",
       "      <th>AV8y1PNmrTg_110</th>\n",
       "      <td>cha</td>\n",
       "      <td>pasodoble</td>\n",
       "      <td>samba</td>\n",
       "      <td>samba</td>\n",
       "      <td>pasodoble</td>\n",
       "    </tr>\n",
       "    <tr>\n",
       "      <th>TGvyix_esxo_411</th>\n",
       "      <td>pasodoble</td>\n",
       "      <td>pasodoble</td>\n",
       "      <td>rumba</td>\n",
       "      <td>rumba</td>\n",
       "      <td>pasodoble</td>\n",
       "    </tr>\n",
       "    <tr>\n",
       "      <th>3zCT36UnEcA_220</th>\n",
       "      <td>tango</td>\n",
       "      <td>tango</td>\n",
       "      <td>foxtrot</td>\n",
       "      <td>foxtrot</td>\n",
       "      <td>tango</td>\n",
       "    </tr>\n",
       "    <tr>\n",
       "      <th>b9-Td5NiE8Y_110</th>\n",
       "      <td>latin</td>\n",
       "      <td>latin</td>\n",
       "      <td>rumba</td>\n",
       "      <td>rumba</td>\n",
       "      <td>latin</td>\n",
       "    </tr>\n",
       "    <tr>\n",
       "      <th>-AXfEN_LJl4_011</th>\n",
       "      <td>cha</td>\n",
       "      <td>cha</td>\n",
       "      <td>rumba</td>\n",
       "      <td>rumba</td>\n",
       "      <td>cha</td>\n",
       "    </tr>\n",
       "    <tr>\n",
       "      <th>XC-ZAGwnmJI_832</th>\n",
       "      <td>latin</td>\n",
       "      <td>latin</td>\n",
       "      <td>swing</td>\n",
       "      <td>swing</td>\n",
       "      <td>latin</td>\n",
       "    </tr>\n",
       "    <tr>\n",
       "      <th>m2TthjT6Ox8_026</th>\n",
       "      <td>cha</td>\n",
       "      <td>samba</td>\n",
       "      <td>jive</td>\n",
       "      <td>jive</td>\n",
       "      <td>samba</td>\n",
       "    </tr>\n",
       "    <tr>\n",
       "      <th>iHQ5WiJF_Mw_033</th>\n",
       "      <td>tap</td>\n",
       "      <td>swing</td>\n",
       "      <td>tap</td>\n",
       "      <td>tap</td>\n",
       "      <td>swing</td>\n",
       "    </tr>\n",
       "    <tr>\n",
       "      <th>3ZeVevTdyvA_102</th>\n",
       "      <td>tap</td>\n",
       "      <td>swing</td>\n",
       "      <td>tap</td>\n",
       "      <td>tap</td>\n",
       "      <td>swing</td>\n",
       "    </tr>\n",
       "  </tbody>\n",
       "</table>\n",
       "</div>"
      ],
      "text/plain": [
       "                      true audio_final vision_final average_final  svm_final\n",
       "index                                                                       \n",
       "_YnwZjcA3X0_024  quickstep       latin    quickstep     quickstep      latin\n",
       "Npe8Vv_YH3Q_020      swing       swing    pasodoble     pasodoble      swing\n",
       "Pk1RfQvobxE_100        cha         cha        rumba         rumba        cha\n",
       "SzWNayeS-K8_009      tango       tango      foxtrot       foxtrot      tango\n",
       "HknJUs3gPuE_804       jive         tap    pasodoble           tap  pasodoble\n",
       "xz2V44lQlqA_035        tap   pasodoble          tap           tap  pasodoble\n",
       "AV8y1PNmrTg_110        cha   pasodoble        samba         samba  pasodoble\n",
       "TGvyix_esxo_411  pasodoble   pasodoble        rumba         rumba  pasodoble\n",
       "3zCT36UnEcA_220      tango       tango      foxtrot       foxtrot      tango\n",
       "b9-Td5NiE8Y_110      latin       latin        rumba         rumba      latin\n",
       "-AXfEN_LJl4_011        cha         cha        rumba         rumba        cha\n",
       "XC-ZAGwnmJI_832      latin       latin        swing         swing      latin\n",
       "m2TthjT6Ox8_026        cha       samba         jive          jive      samba\n",
       "iHQ5WiJF_Mw_033        tap       swing          tap           tap      swing\n",
       "3ZeVevTdyvA_102        tap       swing          tap           tap      swing"
      ]
     },
     "execution_count": 29,
     "metadata": {},
     "output_type": "execute_result"
    }
   ],
   "source": [
    "final_df[final_df['average_final']!=final_df['svm_final']]"
   ]
  },
  {
   "cell_type": "markdown",
   "metadata": {},
   "source": [
    "Final metrics"
   ]
  },
  {
   "cell_type": "code",
   "execution_count": 30,
   "metadata": {
    "ExecuteTime": {
     "end_time": "2019-09-11T12:39:44.551101Z",
     "start_time": "2019-09-11T12:39:44.539232Z"
    }
   },
   "outputs": [
    {
     "data": {
      "text/html": [
       "<div>\n",
       "<style scoped>\n",
       "    .dataframe tbody tr th:only-of-type {\n",
       "        vertical-align: middle;\n",
       "    }\n",
       "\n",
       "    .dataframe tbody tr th {\n",
       "        vertical-align: top;\n",
       "    }\n",
       "\n",
       "    .dataframe thead th {\n",
       "        text-align: right;\n",
       "    }\n",
       "</style>\n",
       "<table border=\"1\" class=\"dataframe\">\n",
       "  <thead>\n",
       "    <tr style=\"text-align: right;\">\n",
       "      <th></th>\n",
       "      <th>Accuracy</th>\n",
       "      <th>Precision</th>\n",
       "      <th>Recall</th>\n",
       "    </tr>\n",
       "  </thead>\n",
       "  <tbody>\n",
       "    <tr>\n",
       "      <th>0</th>\n",
       "      <td>0.769784</td>\n",
       "      <td>0.780073</td>\n",
       "      <td>0.786176</td>\n",
       "    </tr>\n",
       "  </tbody>\n",
       "</table>\n",
       "</div>"
      ],
      "text/plain": [
       "   Accuracy  Precision    Recall\n",
       "0  0.769784   0.780073  0.786176"
      ]
     },
     "execution_count": 30,
     "metadata": {},
     "output_type": "execute_result"
    }
   ],
   "source": [
    "from sklearn.metrics import accuracy_score, precision_score, recall_score, f1_score, confusion_matrix\n",
    "pd.DataFrame({'Accuracy': accuracy_score(final_df['true'], final_df['svm_final']),\n",
    "'Precision': precision_score(final_df['true'], final_df['svm_final'], average='macro'),\n",
    "              \"Recall\": recall_score(final_df['true'], final_df['svm_final'], average='macro')}, index=[0])"
   ]
  },
  {
   "cell_type": "code",
   "execution_count": 31,
   "metadata": {
    "ExecuteTime": {
     "end_time": "2019-09-11T12:55:52.428437Z",
     "start_time": "2019-09-11T12:55:50.128952Z"
    }
   },
   "outputs": [
    {
     "name": "stdout",
     "output_type": "stream",
     "text": [
      "Confusion matrix, without normalization\n"
     ]
    },
    {
     "data": {
      "image/png": "[encoded data removed]",
      "text/plain": [
       "<Figure size 1080x1080 with 2 Axes>"
      ]
     },
     "execution_count": 31,
     "metadata": {},
     "output_type": "execute_result"
    },
    {
     "data": {
      "image/png": "[encoded data removed]",
      "text/plain": [
       "<Figure size 1080x1080 with 2 Axes>"
      ]
     },
     "metadata": {
      "needs_background": "light"
     },
     "output_type": "display_data"
    }
   ],
   "source": [
    "from sklearn.utils.multiclass import unique_labels\n",
    "\n",
    "plot_confusion_matrix(final_df['true'].replace(classes_to_idx), final_df['svm_final'].replace(classes_to_idx),  sorted(classes_to_idx.keys()))"
   ]
  }
 ],
 "metadata": {
  "kernelspec": {
   "display_name": "Python 3",
   "language": "python",
   "name": "python3"
  },
  "language_info": {
   "codemirror_mode": {
    "name": "ipython",
    "version": 3
   },
   "file_extension": ".py",
   "mimetype": "text/x-python",
   "name": "python",
   "nbconvert_exporter": "python",
   "pygments_lexer": "ipython3",
   "version": "3.6.7"
  },
  "toc": {
   "base_numbering": 1,
   "nav_menu": {},
   "number_sections": true,
   "sideBar": true,
   "skip_h1_title": false,
   "title_cell": "Table of Contents",
   "title_sidebar": "Contents",
   "toc_cell": false,
   "toc_position": {},
   "toc_section_display": true,
   "toc_window_display": false
  },
  "varInspector": {
   "cols": {
    "lenName": 16,
    "lenType": 16,
    "lenVar": 40
   },
   "kernels_config": {
    "python": {
     "delete_cmd_postfix": "",
     "delete_cmd_prefix": "del ",
     "library": "var_list.py",
     "varRefreshCmd": "print(var_dic_list())"
    },
    "r": {
     "delete_cmd_postfix": ") ",
     "delete_cmd_prefix": "rm(",
     "library": "var_list.r",
     "varRefreshCmd": "cat(var_dic_list()) "
    }
   },
   "types_to_exclude": [
    "module",
    "function",
    "builtin_function_or_method",
    "instance",
    "_Feature"
   ],
   "window_display": false
  }
 },
 "nbformat": 4,
 "nbformat_minor": 2
}
