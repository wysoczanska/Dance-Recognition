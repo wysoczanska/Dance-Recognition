{
 "cells": [
  {
   "cell_type": "code",
   "execution_count": 5,
   "metadata": {},
   "outputs": [],
   "source": [
    "import torch\n",
    "from torch import nn\n",
    "import torch.nn.functional as F\n",
    "torch.manual_seed(0)\n",
    "import os\n",
    "os.chdir('../')\n",
    "import skorch\n"
   ]
  },
  {
   "cell_type": "code",
   "execution_count": 15,
   "metadata": {},
   "outputs": [],
   "source": [
    "from multimodal_net.models.BBNN import BBNN\n",
    "from skorch import NeuralNetClassifier\n",
    "import multimodal_net.video_transforms as video_transforms\n",
    "from torch.optim.lr_scheduler import ReduceLROnPlateau\n",
    "\n",
    "from torchvision import transforms, utils"
   ]
  },
  {
   "cell_type": "code",
   "execution_count": 17,
   "metadata": {},
   "outputs": [],
   "source": [
    "net = NeuralNetClassifier(\n",
    "    BBNN,\n",
    "    max_epochs=200,\n",
    "    lr=0.01,\n",
    "    verbose=0,\n",
    "    optimizer__momentum=0.9,\n",
    "    device='cuda'\n",
    ")\n",
    "root = '/mnt/cold/inputs/jersey_number_recognition/letsdance'\n",
    "\n",
    "val_split_file = 'multimodal_net/datasets/letsdance_splits/test.csv'\n",
    "train_split_file = 'multimodal_net/datasets/letsdance_splits/train.csv'"
   ]
  },
  {
   "cell_type": "code",
   "execution_count": 19,
   "metadata": {},
   "outputs": [
    {
     "ename": "NameError",
     "evalue": "name 'args' is not defined",
     "output_type": "error",
     "traceback": [
      "\u001b[0;31m---------------------------------------------------------------------------\u001b[0m",
      "\u001b[0;31mNameError\u001b[0m                                 Traceback (most recent call last)",
      "\u001b[0;32m<ipython-input-19-71d906bea320>\u001b[0m in \u001b[0;36m<module>\u001b[0;34m()\u001b[0m\n\u001b[1;32m      1\u001b[0m train_transform = transforms.Compose([\n\u001b[1;32m      2\u001b[0m         \u001b[0;31m# video_transforms.Scale((256)),\u001b[0m\u001b[0;34m\u001b[0m\u001b[0;34m\u001b[0m\u001b[0;34m\u001b[0m\u001b[0m\n\u001b[0;32m----> 3\u001b[0;31m         \u001b[0mvideo_transforms\u001b[0m\u001b[0;34m.\u001b[0m\u001b[0mResize\u001b[0m\u001b[0;34m(\u001b[0m\u001b[0;34m(\u001b[0m\u001b[0margs\u001b[0m\u001b[0;34m.\u001b[0m\u001b[0mnew_height\u001b[0m\u001b[0;34m,\u001b[0m \u001b[0margs\u001b[0m\u001b[0;34m.\u001b[0m\u001b[0mnew_width\u001b[0m\u001b[0;34m)\u001b[0m\u001b[0;34m)\u001b[0m\u001b[0;34m,\u001b[0m\u001b[0;34m\u001b[0m\u001b[0;34m\u001b[0m\u001b[0m\n\u001b[0m\u001b[1;32m      4\u001b[0m         \u001b[0mvideo_transforms\u001b[0m\u001b[0;34m.\u001b[0m\u001b[0mToTensor\u001b[0m\u001b[0;34m(\u001b[0m\u001b[0;34m)\u001b[0m\u001b[0;34m,\u001b[0m\u001b[0;34m\u001b[0m\u001b[0;34m\u001b[0m\u001b[0m\n\u001b[1;32m      5\u001b[0m         \u001b[0;31m# normalize,\u001b[0m\u001b[0;34m\u001b[0m\u001b[0;34m\u001b[0m\u001b[0;34m\u001b[0m\u001b[0m\n",
      "\u001b[0;31mNameError\u001b[0m: name 'args' is not defined"
     ]
    }
   ],
   "source": [
    "    train_transform = transforms.Compose([\n",
    "            # video_transforms.Scale((256)),\n",
    "            video_transforms.Resize((args.new_height, args.new_width)),\n",
    "            video_transforms.ToTensor(),\n",
    "            # normalize,\n",
    "        ])\n",
    "\n",
    "    val_transform = transforms.Compose([\n",
    "            # video_transforms.Scale((256)),\n",
    "            video_transforms.Resize((args.new_height, args.new_width)),\n",
    "            video_transforms.ToTensor(),\n",
    "            # normalize,\n",
    "        ])\n",
    "\n",
    "    train_dataset = datasets.__dict__[args.dataset](root=root,\n",
    "                                                    source=train_split_file,\n",
    "                                                    phase=\"train\",\n",
    "                                                    is_color=True,\n",
    "                                                    transform=train_transform)\n",
    "    val_dataset = datasets.__dict__[args.dataset](root=root,\n",
    "                                                  source=test_split_file,\n",
    "                                                  phase=\"val\",\n",
    "                                                  is_color=True,\n",
    "                                                  transform=val_transform)"
   ]
  }
 ],
 "metadata": {
  "kernelspec": {
   "display_name": "Python 2",
   "language": "python",
   "name": "python2"
  },
  "language_info": {
   "codemirror_mode": {
    "name": "ipython",
    "version": 3
   },
   "file_extension": ".py",
   "mimetype": "text/x-python",
   "name": "python",
   "nbconvert_exporter": "python",
   "pygments_lexer": "ipython3",
   "version": "3.6.7"
  }
 },
 "nbformat": 4,
 "nbformat_minor": 1
}
